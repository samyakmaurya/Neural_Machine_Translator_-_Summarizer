{
 "cells": [
  {
   "cell_type": "markdown",
   "metadata": {
    "id": "GLKPmXclFu_j"
   },
   "source": [
    "<h1 align=\"center\">Topic: Building a Text Summarizer</h1>"
   ]
  },
  {
   "cell_type": "markdown",
   "metadata": {
    "id": "JHtkxl5hFu_m"
   },
   "source": [
    "<h2>Importing required libraries</h2>"
   ]
  },
  {
   "cell_type": "code",
   "execution_count": 1,
   "metadata": {
    "colab": {
     "base_uri": "https://localhost:8080/"
    },
    "id": "D4lkb-PpBOMJ",
    "outputId": "c3851925-efd8-45d5-e9ec-390f8e6b5cc3"
   },
   "outputs": [
    {
     "name": "stdout",
     "output_type": "stream",
     "text": [
      "Requirement already satisfied: newspaper3k in c:\\users\\user\\anaconda3\\lib\\site-packages (0.2.8)\n",
      "Requirement already satisfied: beautifulsoup4>=4.4.1 in c:\\users\\user\\anaconda3\\lib\\site-packages (from newspaper3k) (4.9.1)\n",
      "Requirement already satisfied: PyYAML>=3.11 in c:\\users\\user\\anaconda3\\lib\\site-packages (from newspaper3k) (5.3.1)\n",
      "Requirement already satisfied: feedparser>=5.2.1 in c:\\users\\user\\anaconda3\\lib\\site-packages (from newspaper3k) (6.0.8)\n",
      "Requirement already satisfied: feedfinder2>=0.0.4 in c:\\users\\user\\anaconda3\\lib\\site-packages (from newspaper3k) (0.0.4)\n",
      "Requirement already satisfied: requests>=2.10.0 in c:\\users\\user\\anaconda3\\lib\\site-packages (from newspaper3k) (2.24.0)\n",
      "Requirement already satisfied: cssselect>=0.9.2 in c:\\users\\user\\anaconda3\\lib\\site-packages (from newspaper3k) (1.1.0)\n",
      "Requirement already satisfied: tinysegmenter==0.3 in c:\\users\\user\\anaconda3\\lib\\site-packages (from newspaper3k) (0.3)\n",
      "Requirement already satisfied: Pillow>=3.3.0 in c:\\users\\user\\anaconda3\\lib\\site-packages (from newspaper3k) (7.2.0)\n",
      "Requirement already satisfied: python-dateutil>=2.5.3 in c:\\users\\user\\anaconda3\\lib\\site-packages (from newspaper3k) (2.8.1)\n",
      "Requirement already satisfied: tldextract>=2.0.1 in c:\\users\\user\\anaconda3\\lib\\site-packages (from newspaper3k) (3.2.1)\n",
      "Requirement already satisfied: nltk>=3.2.1 in c:\\users\\user\\anaconda3\\lib\\site-packages (from newspaper3k) (3.7)\n",
      "Requirement already satisfied: jieba3k>=0.35.1 in c:\\users\\user\\anaconda3\\lib\\site-packages (from newspaper3k) (0.35.1)\n",
      "Requirement already satisfied: lxml>=3.6.0 in c:\\users\\user\\anaconda3\\lib\\site-packages (from newspaper3k) (4.5.2)\n",
      "Requirement already satisfied: soupsieve>1.2 in c:\\users\\user\\anaconda3\\lib\\site-packages (from beautifulsoup4>=4.4.1->newspaper3k) (2.0.1)\n",
      "Requirement already satisfied: sgmllib3k in c:\\users\\user\\anaconda3\\lib\\site-packages (from feedparser>=5.2.1->newspaper3k) (1.0.0)\n",
      "Requirement already satisfied: six in c:\\users\\user\\anaconda3\\lib\\site-packages (from feedfinder2>=0.0.4->newspaper3k) (1.15.0)\n",
      "Requirement already satisfied: idna<3,>=2.5 in c:\\users\\user\\anaconda3\\lib\\site-packages (from requests>=2.10.0->newspaper3k) (2.10)\n",
      "Requirement already satisfied: certifi>=2017.4.17 in c:\\users\\user\\anaconda3\\lib\\site-packages (from requests>=2.10.0->newspaper3k) (2020.6.20)\n",
      "Requirement already satisfied: chardet<4,>=3.0.2 in c:\\users\\user\\anaconda3\\lib\\site-packages (from requests>=2.10.0->newspaper3k) (3.0.4)\n",
      "Requirement already satisfied: urllib3!=1.25.0,!=1.25.1,<1.26,>=1.21.1 in c:\\users\\user\\anaconda3\\lib\\site-packages (from requests>=2.10.0->newspaper3k) (1.25.9)\n",
      "Requirement already satisfied: filelock>=3.0.8 in c:\\users\\user\\anaconda3\\lib\\site-packages (from tldextract>=2.0.1->newspaper3k) (3.0.12)\n",
      "Requirement already satisfied: requests-file>=1.4 in c:\\users\\user\\anaconda3\\lib\\site-packages (from tldextract>=2.0.1->newspaper3k) (1.5.1)\n",
      "Requirement already satisfied: tqdm in c:\\users\\user\\anaconda3\\lib\\site-packages (from nltk>=3.2.1->newspaper3k) (4.47.0)\n",
      "Requirement already satisfied: regex>=2021.8.3 in c:\\users\\user\\anaconda3\\lib\\site-packages (from nltk>=3.2.1->newspaper3k) (2022.3.15)\n",
      "Requirement already satisfied: click in c:\\users\\user\\anaconda3\\lib\\site-packages (from nltk>=3.2.1->newspaper3k) (7.1.2)\n",
      "Requirement already satisfied: joblib in c:\\users\\user\\anaconda3\\lib\\site-packages (from nltk>=3.2.1->newspaper3k) (0.16.0)\n",
      "Requirement already satisfied: gTTS in c:\\users\\user\\anaconda3\\lib\\site-packages (2.2.4)\n",
      "Requirement already satisfied: requests in c:\\users\\user\\anaconda3\\lib\\site-packages (from gTTS) (2.24.0)\n",
      "Requirement already satisfied: click in c:\\users\\user\\anaconda3\\lib\\site-packages (from gTTS) (7.1.2)\n",
      "Requirement already satisfied: six in c:\\users\\user\\anaconda3\\lib\\site-packages (from gTTS) (1.15.0)\n",
      "Requirement already satisfied: chardet<4,>=3.0.2 in c:\\users\\user\\anaconda3\\lib\\site-packages (from requests->gTTS) (3.0.4)\n",
      "Requirement already satisfied: certifi>=2017.4.17 in c:\\users\\user\\anaconda3\\lib\\site-packages (from requests->gTTS) (2020.6.20)\n",
      "Requirement already satisfied: idna<3,>=2.5 in c:\\users\\user\\anaconda3\\lib\\site-packages (from requests->gTTS) (2.10)\n",
      "Requirement already satisfied: urllib3!=1.25.0,!=1.25.1,<1.26,>=1.21.1 in c:\\users\\user\\anaconda3\\lib\\site-packages (from requests->gTTS) (1.25.9)\n"
     ]
    }
   ],
   "source": [
    "!pip install newspaper3k\n",
    "!pip install gTTS"
   ]
  },
  {
   "cell_type": "code",
   "execution_count": 2,
   "metadata": {
    "id": "MvIv87dEFu_n"
   },
   "outputs": [],
   "source": [
    "from sklearn.feature_extraction.text import TfidfVectorizer\n",
    "from spacy.lang.en import English\n",
    "import numpy as np\n",
    "import newspaper"
   ]
  },
  {
   "cell_type": "markdown",
   "metadata": {
    "id": "L6y0ZUuxFu_p"
   },
   "source": [
    "<h2>Load spacy model for sentence tokenization</h2>"
   ]
  },
  {
   "cell_type": "code",
   "execution_count": 3,
   "metadata": {
    "id": "pzdnGjGzFu_p"
   },
   "outputs": [
    {
     "data": {
      "text/plain": [
       "<spacy.pipeline.sentencizer.Sentencizer at 0x1263619f3c0>"
      ]
     },
     "execution_count": 3,
     "metadata": {},
     "output_type": "execute_result"
    }
   ],
   "source": [
    "nlp = English()\n",
    "nlp.add_pipe('sentencizer')"
   ]
  },
  {
   "cell_type": "code",
   "execution_count": 4,
   "metadata": {
    "colab": {
     "base_uri": "https://localhost:8080/"
    },
    "id": "7yVZwo8qDea6",
    "outputId": "8e80c8ef-b052-4c5c-8390-860ad99a2b56"
   },
   "outputs": [
    {
     "data": {
      "text/plain": [
       "<spacy.lang.en.English at 0x1262069baf0>"
      ]
     },
     "execution_count": 4,
     "metadata": {},
     "output_type": "execute_result"
    }
   ],
   "source": [
    "nlp"
   ]
  },
  {
   "cell_type": "code",
   "execution_count": 5,
   "metadata": {
    "id": "TtYzlQnTAl5I"
   },
   "outputs": [],
   "source": [
    "\n",
    "import newspaper\n",
    " \n",
    "# Assign url\n",
    "url = 'https://timesofindia.indiatimes.com/sports/cricket/ipl/top-stories/ipl-2022-delhis-next-game-shifted-to-wankhede-from-pune-after-tim-seifert-tests-covid-19-positive/articleshow/90963118.cms'\n",
    " \n",
    "# Extract web data\n",
    "url_i = newspaper.Article(url=\"%s\" % (url), language='en')\n",
    "url_i.download()\n",
    "url_i.parse()"
   ]
  },
  {
   "cell_type": "code",
   "execution_count": 6,
   "metadata": {
    "colab": {
     "base_uri": "https://localhost:8080/"
    },
    "id": "udOl61GqFu_q",
    "outputId": "cb19faa4-77db-42a1-ac2d-529b1e843ff9"
   },
   "outputs": [
    {
     "name": "stdout",
     "output_type": "stream",
     "text": [
      "MUMBAI: The cloud over the IPL game between Delhi Capitals and Punjab Kings was lifted an hour before the game on Wednesday after the BCCI confirmed that the match will go on despite a sixth COVID positive case being reported in the Delhi camp on game day.New Zealand cricketer Tim Seifert testing positive on the morning of the game raised serious doubts over the fixture but the rest of the Delhi squad members returning two negative tests put the match back on track.\"The entire Delhi Capitals contingent underwent 2 rounds of COVID testing today. Match No. 32 involving Delhi Capitals and Punjab Kings scheduled today at Brabourne – CCI will go ahead as per the schedule after the second round of COVID tests returned negative today,\" said the BCCI in a statement.High drama unfolded in the lead up to the game with Seifert becoming the sixth member from the Delhi contingent to test positive. Australian all-rounder Mitchell Marsh had tested positive on Monday.Punjab had reached the Brabourne Stadium on schedule but Delhi just about managed to reach in nick of time.With Delhi players having to deal with stress and suspense caused by the COVID outbreak, it would be tough for them to just turn up and perform to their potential.\"It is tough as we have got very little time to train after the last game,\" said a player on the condition of anonymity.As per the IPL regulations, a minimum of 12 players including seven Indians are needed for the game to go ahead in case of a COVID outbreak.There is also an option to reschedule the game if the minimum player requirement is not met.The BCCI was on Tuesday forced to shift the game to Mumbai from Pune \"to avoid any further incident due to any undetected case during a long-distance bus journey in a closed environment\".Delhi's next game on April 22 has also been moved to Mumbai from Pune.\"The Board of Control for Cricket in India (BCCI) on Wednesday announced a change of venue for Match No. 34 – Delhi Capital versus Rajasthan Royals from MCA Stadium, Pune to Wankhede Stadium, Mumbai scheduled on April 22, 2022.\"The decision on the change of venue was made as a precautionary measure after Delhi Capitals registered the 6th COVID case with New Zealand wicketkeeper Mr Tim Seifert returning positive in today's RT-PCR testing,\" BCCI added.Delhi physio Patrick Farhart and sports massage therapist Chetan Kumar had tested positive last week while Marsh, who is hospitalised, team doctor Abhijit Salvi and social media content team member Akash Mane returned positive tests on Monday.Seifert had also contracted the virus last season when he was with the Kolkata Knight Riders.Multiple cases across four teams had forced the organisers to suspend the IPL last season before it was completed in the UAE in September-October.\n",
      "Length of the article 2781\n"
     ]
    }
   ],
   "source": [
    "print(url_i.text)\n",
    "print(\"Length of the article\", len(url_i.text))\n",
    "text_corpus = url_i.text"
   ]
  },
  {
   "cell_type": "markdown",
   "metadata": {
    "id": "b_2pAfrxFu_q"
   },
   "source": [
    "<h2>Create spacy document for further sentence level tokenization</h2>"
   ]
  },
  {
   "cell_type": "code",
   "execution_count": 7,
   "metadata": {
    "colab": {
     "base_uri": "https://localhost:8080/"
    },
    "id": "EvDY_sEmFu_r",
    "outputId": "e55de0a5-2d28-4cf9-b5b2-8b549fce1a4a"
   },
   "outputs": [],
   "source": [
    "doc = nlp(text_corpus.replace(\"\\n\", \"\"))\n",
    "#print(doc)\n",
    "sentences = [sent.text.strip() for sent in doc.sents]\n",
    "#print(sentences[0])"
   ]
  },
  {
   "cell_type": "markdown",
   "metadata": {
    "id": "LHY30plEFu_r"
   },
   "source": [
    "<h2>Peeking into our tokenized sentences</h2>"
   ]
  },
  {
   "cell_type": "code",
   "execution_count": 8,
   "metadata": {
    "colab": {
     "base_uri": "https://localhost:8080/"
    },
    "id": "ZX4ZHwI6Fu_s",
    "outputId": "e50961c9-835e-4607-913e-b9a69fb7f72b"
   },
   "outputs": [
    {
     "name": "stdout",
     "output_type": "stream",
     "text": [
      "Senetence are: \n",
      " ['MUMBAI: The cloud over the IPL game between Delhi Capitals and Punjab Kings was lifted an hour before the game on Wednesday after the BCCI confirmed that the match will go on despite a sixth COVID positive case being reported in the Delhi camp on game day.', 'New Zealand cricketer Tim Seifert testing positive on the morning of the game raised serious doubts over the fixture but the rest of the Delhi squad members returning two negative tests put the match back on track.', '\"The entire Delhi Capitals contingent underwent 2 rounds of COVID testing today.', 'Match No.', '32 involving Delhi Capitals and Punjab Kings scheduled today at Brabourne – CCI will go ahead as per the schedule after the second round of COVID tests returned negative today,\" said the BCCI in a statement.', 'High drama unfolded in the lead up to the game with Seifert becoming the sixth member from the Delhi contingent to test positive.', 'Australian all-rounder Mitchell Marsh had tested positive on Monday.', 'Punjab had reached the Brabourne Stadium on schedule but Delhi just about managed to reach in nick of time.', 'With Delhi players having to deal with stress and suspense caused by the COVID outbreak, it would be tough for them to just turn up and perform to their potential.', '\"It is tough as we have got very little time to train after the last game,\" said a player on the condition of anonymity.', 'As per the IPL regulations, a minimum of 12 players including seven Indians are needed for the game to go ahead in case of a COVID outbreak.', 'There is also an option to reschedule the game if the minimum player requirement is not met.', 'The BCCI was on Tuesday forced to shift the game to Mumbai from Pune \"to avoid any further incident due to any undetected case during a long-distance bus journey in a closed environment\".', \"Delhi's next game on April 22 has also been moved to Mumbai from Pune.\", '\"The Board of Control for Cricket in India (BCCI) on Wednesday announced a change of venue for Match No.', '34 – Delhi Capital versus Rajasthan Royals from MCA Stadium, Pune to Wankhede Stadium, Mumbai scheduled on April 22, 2022.\"The decision on the change of venue was made as a precautionary measure after Delhi Capitals registered the 6th COVID case with New Zealand wicketkeeper Mr Tim Seifert returning positive in today\\'s RT-PCR testing,\" BCCI added.', 'Delhi physio Patrick Farhart and sports massage therapist Chetan Kumar had tested positive last week while Marsh, who is hospitalised, team doctor Abhijit Salvi and social media content team member Akash Mane returned positive tests on Monday.', 'Seifert had also contracted the virus last season when he was with the Kolkata Knight Riders.', 'Multiple cases across four teams had forced the organisers to suspend the IPL last season before it was completed in the UAE in September-October.']\n"
     ]
    }
   ],
   "source": [
    "print(\"Senetence are: \\n\", sentences)"
   ]
  },
  {
   "cell_type": "markdown",
   "metadata": {
    "id": "pA1Ib534Fu_t"
   },
   "source": [
    "<h2>Creating sentence organizer</h2>"
   ]
  },
  {
   "cell_type": "code",
   "execution_count": 9,
   "metadata": {
    "colab": {
     "base_uri": "https://localhost:8080/"
    },
    "id": "XjKrzlN0Fu_t",
    "outputId": "1fb614a0-c2d9-4201-8954-f0311e65ff64"
   },
   "outputs": [
    {
     "name": "stdout",
     "output_type": "stream",
     "text": [
      "Sentence organizer: \n",
      " {'MUMBAI: The cloud over the IPL game between Delhi Capitals and Punjab Kings was lifted an hour before the game on Wednesday after the BCCI confirmed that the match will go on despite a sixth COVID positive case being reported in the Delhi camp on game day.': 0, 'New Zealand cricketer Tim Seifert testing positive on the morning of the game raised serious doubts over the fixture but the rest of the Delhi squad members returning two negative tests put the match back on track.': 1, '\"The entire Delhi Capitals contingent underwent 2 rounds of COVID testing today.': 2, 'Match No.': 3, '32 involving Delhi Capitals and Punjab Kings scheduled today at Brabourne – CCI will go ahead as per the schedule after the second round of COVID tests returned negative today,\" said the BCCI in a statement.': 4, 'High drama unfolded in the lead up to the game with Seifert becoming the sixth member from the Delhi contingent to test positive.': 5, 'Australian all-rounder Mitchell Marsh had tested positive on Monday.': 6, 'Punjab had reached the Brabourne Stadium on schedule but Delhi just about managed to reach in nick of time.': 7, 'With Delhi players having to deal with stress and suspense caused by the COVID outbreak, it would be tough for them to just turn up and perform to their potential.': 8, '\"It is tough as we have got very little time to train after the last game,\" said a player on the condition of anonymity.': 9, 'As per the IPL regulations, a minimum of 12 players including seven Indians are needed for the game to go ahead in case of a COVID outbreak.': 10, 'There is also an option to reschedule the game if the minimum player requirement is not met.': 11, 'The BCCI was on Tuesday forced to shift the game to Mumbai from Pune \"to avoid any further incident due to any undetected case during a long-distance bus journey in a closed environment\".': 12, \"Delhi's next game on April 22 has also been moved to Mumbai from Pune.\": 13, '\"The Board of Control for Cricket in India (BCCI) on Wednesday announced a change of venue for Match No.': 14, '34 – Delhi Capital versus Rajasthan Royals from MCA Stadium, Pune to Wankhede Stadium, Mumbai scheduled on April 22, 2022.\"The decision on the change of venue was made as a precautionary measure after Delhi Capitals registered the 6th COVID case with New Zealand wicketkeeper Mr Tim Seifert returning positive in today\\'s RT-PCR testing,\" BCCI added.': 15, 'Delhi physio Patrick Farhart and sports massage therapist Chetan Kumar had tested positive last week while Marsh, who is hospitalised, team doctor Abhijit Salvi and social media content team member Akash Mane returned positive tests on Monday.': 16, 'Seifert had also contracted the virus last season when he was with the Kolkata Knight Riders.': 17, 'Multiple cases across four teams had forced the organisers to suspend the IPL last season before it was completed in the UAE in September-October.': 18}\n"
     ]
    }
   ],
   "source": [
    "sentence_organizer = {k:v for v,k in enumerate(sentences)}\n",
    "print(\"Sentence organizer: \\n\", sentence_organizer)"
   ]
  },
  {
   "cell_type": "markdown",
   "metadata": {
    "id": "8YVObP_mFu_u"
   },
   "source": [
    "<h2>Creating TF-IDF model</h2>"
   ]
  },
  {
   "cell_type": "code",
   "execution_count": 10,
   "metadata": {
    "id": "OszzD8cZFu_u"
   },
   "outputs": [],
   "source": [
    "# TF-IDF model\n",
    "tf_idf_vectorizer = TfidfVectorizer(min_df=2, \n",
    "                                    ngram_range=(1, 3), \n",
    "                                    sublinear_tf=1,\n",
    "                                    stop_words = 'english')\n",
    "#sublinear_tf: replace tf with 1 + log(tf)."
   ]
  },
  {
   "cell_type": "code",
   "execution_count": 11,
   "metadata": {
    "colab": {
     "base_uri": "https://localhost:8080/"
    },
    "id": "ztCLZ92cFu_v",
    "outputId": "04955f80-2ed5-4d80-8a83-a9e4ca43ec1d"
   },
   "outputs": [
    {
     "data": {
      "text/plain": [
       "TfidfVectorizer(min_df=2, ngram_range=(1, 3), stop_words='english',\n",
       "                sublinear_tf=1)"
      ]
     },
     "execution_count": 11,
     "metadata": {},
     "output_type": "execute_result"
    }
   ],
   "source": [
    "# Passing our sentences treating each as one document to TF-IDF vectorizer\n",
    "tf_idf_vectorizer.fit(sentences)"
   ]
  },
  {
   "cell_type": "code",
   "execution_count": 12,
   "metadata": {
    "colab": {
     "base_uri": "https://localhost:8080/"
    },
    "id": "PwS4_5hqFu_v",
    "outputId": "7d2c56a8-dd3f-4e51-b40f-6369a74fdef3"
   },
   "outputs": [
    {
     "name": "stdout",
     "output_type": "stream",
     "text": [
      "  (0, 59)\t0.24872847042701354\n",
      "  (0, 47)\t0.24872847042701354\n",
      "  (0, 39)\t0.24872847042701354\n",
      "  (0, 38)\t0.22402990004556514\n",
      "  (0, 36)\t0.17598481399937277\n",
      "  (0, 28)\t0.2048722005047843\n",
      "  (0, 24)\t0.2048722005047843\n",
      "  (0, 22)\t0.24872847042701354\n",
      "  (0, 20)\t0.22402990004556514\n",
      "  (0, 19)\t0.32404366043231375\n",
      "  (0, 17)\t0.24872847042701354\n",
      "  (0, 16)\t0.2048722005047843\n",
      "  (0, 15)\t0.2322663005572307\n",
      "  (0, 13)\t0.17598481399937277\n",
      "  (0, 9)\t0.2048722005047843\n",
      "  (0, 8)\t0.24872847042701354\n",
      "  (0, 7)\t0.24872847042701354\n",
      "  (0, 6)\t0.2048722005047843\n",
      "  (0, 4)\t0.18921922024031018\n",
      "  (1, 60)\t0.29921366884846384\n",
      "  (1, 54)\t0.29921366884846384\n",
      "  (1, 53)\t0.29921366884846384\n",
      "  (1, 52)\t0.2695019521058735\n",
      "  (1, 51)\t0.2695019521058735\n",
      "  (1, 46)\t0.24645575415172485\n",
      "  :\t:\n",
      "  (15, 16)\t0.1676279374785198\n",
      "  (15, 15)\t0.19004199111565329\n",
      "  (15, 13)\t0.14399206591021557\n",
      "  (15, 11)\t0.20351145927626052\n",
      "  (15, 10)\t0.20351145927626052\n",
      "  (15, 9)\t0.1676279374785198\n",
      "  (15, 6)\t0.1676279374785198\n",
      "  (15, 4)\t0.15482055418951912\n",
      "  (15, 3)\t0.20351145927626052\n",
      "  (15, 2)\t0.20351145927626052\n",
      "  (15, 0)\t0.20351145927626052\n",
      "  (16, 52)\t0.3080229599207515\n",
      "  (16, 50)\t0.3419814929253077\n",
      "  (16, 49)\t0.3419814929253077\n",
      "  (16, 40)\t0.3419814929253077\n",
      "  (16, 36)\t0.4096821198147032\n",
      "  (16, 27)\t0.3419814929253077\n",
      "  (16, 25)\t0.3419814929253077\n",
      "  (16, 23)\t0.3419814929253077\n",
      "  (16, 15)\t0.18861168533592068\n",
      "  (17, 46)\t0.6357756503786524\n",
      "  (17, 45)\t0.7718739031639829\n",
      "  (18, 45)\t0.5964161050820657\n",
      "  (18, 20)\t0.5371923856473367\n",
      "  (18, 18)\t0.5964161050820657\n"
     ]
    }
   ],
   "source": [
    "# Transforming our sentences to TF-IDF vectors\n",
    "sentence_vectors = tf_idf_vectorizer.transform(sentences)\n",
    "print(sentence_vectors)"
   ]
  },
  {
   "cell_type": "markdown",
   "metadata": {
    "id": "IK8IYtCsFu_w"
   },
   "source": [
    "<h2>Performing sentence scoring</h2>"
   ]
  },
  {
   "cell_type": "code",
   "execution_count": 13,
   "metadata": {
    "colab": {
     "base_uri": "https://localhost:8080/"
    },
    "id": "1WJxbl4UFu_x",
    "outputId": "3a1477a0-a1d8-4433-d539-044a0102b4ad"
   },
   "outputs": [
    {
     "name": "stdout",
     "output_type": "stream",
     "text": [
      "[4.3110189  3.68888954 2.60954908 1.         4.3935779  2.5848844\n",
      " 2.21900428 2.6091297  2.59786213 2.20654433 2.96510694 1.69688925\n",
      " 2.61740099 2.7744219  2.43557758 5.01111891 2.95820572 1.40764955\n",
      " 1.7300246 ]\n",
      "True\n"
     ]
    }
   ],
   "source": [
    "# Getting sentence scores for each sentences\n",
    "sentence_scores = np.array(sentence_vectors.sum(axis=1)).ravel()\n",
    "print(sentence_scores)\n",
    "\n",
    "# Sanity checkup\n",
    "print(len(sentences) == len(sentence_scores))"
   ]
  },
  {
   "cell_type": "code",
   "execution_count": 14,
   "metadata": {
    "colab": {
     "base_uri": "https://localhost:8080/"
    },
    "id": "mrYqCH4eFu_y",
    "outputId": "918f8523-7732-4883-eefc-082bfec66dd2"
   },
   "outputs": [],
   "source": [
    "# Getting top-n sentences\n",
    "N = 3\n",
    "top_n_sentences = [sentences[ind] for ind in np.argsort(sentence_scores, axis=0)[::-1][:N]]\n",
    "#print(top_n_sentences)"
   ]
  },
  {
   "cell_type": "markdown",
   "metadata": {
    "id": "f9R2xilBFu_z"
   },
   "source": [
    "<h2>Performing final summarization</h2>"
   ]
  },
  {
   "cell_type": "code",
   "execution_count": 15,
   "metadata": {
    "colab": {
     "base_uri": "https://localhost:8080/"
    },
    "id": "xo2dmefbFu_z",
    "outputId": "94a12784-cc79-4477-d5db-74137c3be12e"
   },
   "outputs": [
    {
     "name": "stdout",
     "output_type": "stream",
     "text": [
      "Our top_n_sentence with their index: \n",
      "\n",
      "('34 – Delhi Capital versus Rajasthan Royals from MCA Stadium, Pune to Wankhede Stadium, Mumbai scheduled on April 22, 2022.\"The decision on the change of venue was made as a precautionary measure after Delhi Capitals registered the 6th COVID case with New Zealand wicketkeeper Mr Tim Seifert returning positive in today\\'s RT-PCR testing,\" BCCI added.', 15)\n",
      "('32 involving Delhi Capitals and Punjab Kings scheduled today at Brabourne – CCI will go ahead as per the schedule after the second round of COVID tests returned negative today,\" said the BCCI in a statement.', 4)\n",
      "('MUMBAI: The cloud over the IPL game between Delhi Capitals and Punjab Kings was lifted an hour before the game on Wednesday after the BCCI confirmed that the match will go on despite a sixth COVID positive case being reported in the Delhi camp on game day.', 0)\n"
     ]
    }
   ],
   "source": [
    "# Let's now do the sentence ordering using our prebaked sentence_organizer\n",
    "# Let's map the scored sentences with their indexes\n",
    "mapped_top_n_sentences = [(sentence,sentence_organizer[sentence]) for sentence in top_n_sentences]\n",
    "print(\"Our top_n_sentence with their index: \\n\")\n",
    "for element in mapped_top_n_sentences:\n",
    "    print(element)\n",
    "\n",
    "\n",
    "# Ordering our top-n sentences in their original ordering\n",
    "mapped_top_n_sentences = sorted(mapped_top_n_sentences, key = lambda x: x[1])\n",
    "ordered_scored_sentences = [element[0] for element in mapped_top_n_sentences]\n",
    "\n",
    "# Our final summary\n",
    "summary = \" \".join(ordered_scored_sentences)"
   ]
  },
  {
   "cell_type": "markdown",
   "metadata": {
    "id": "RASGTZEaFu_0"
   },
   "source": [
    "<h2>Result / Summary</h2>"
   ]
  },
  {
   "cell_type": "code",
   "execution_count": 16,
   "metadata": {
    "colab": {
     "base_uri": "https://localhost:8080/"
    },
    "id": "F4UaCc5_Fu_0",
    "outputId": "0ff4338c-941f-495b-8ddb-f91b0ab18768"
   },
   "outputs": [
    {
     "name": "stdout",
     "output_type": "stream",
     "text": [
      "Summary: \n",
      " MUMBAI: The cloud over the IPL game between Delhi Capitals and Punjab Kings was lifted an hour before the game on Wednesday after the BCCI confirmed that the match will go on despite a sixth COVID positive case being reported in the Delhi camp on game day. 32 involving Delhi Capitals and Punjab Kings scheduled today at Brabourne – CCI will go ahead as per the schedule after the second round of COVID tests returned negative today,\" said the BCCI in a statement. 34 – Delhi Capital versus Rajasthan Royals from MCA Stadium, Pune to Wankhede Stadium, Mumbai scheduled on April 22, 2022.\"The decision on the change of venue was made as a precautionary measure after Delhi Capitals registered the 6th COVID case with New Zealand wicketkeeper Mr Tim Seifert returning positive in today's RT-PCR testing,\" BCCI added.\n",
      "814\n",
      "2781\n"
     ]
    }
   ],
   "source": [
    "print(\"Summary: \\n\", summary)\n",
    "print(len(summary))\n",
    "print(len(text_corpus))\n",
    "\n",
    "\n"
   ]
  },
  {
   "cell_type": "code",
   "execution_count": 17,
   "metadata": {},
   "outputs": [
    {
     "name": "stdout",
     "output_type": "stream",
     "text": [
      "Requirement already satisfied: gTTs in c:\\users\\user\\anaconda3\\lib\\site-packages (2.2.4)\n",
      "Requirement already satisfied: six in c:\\users\\user\\anaconda3\\lib\\site-packages (from gTTs) (1.15.0)\n",
      "Requirement already satisfied: requests in c:\\users\\user\\anaconda3\\lib\\site-packages (from gTTs) (2.24.0)\n",
      "Requirement already satisfied: click in c:\\users\\user\\anaconda3\\lib\\site-packages (from gTTs) (7.1.2)\n",
      "Requirement already satisfied: idna<3,>=2.5 in c:\\users\\user\\anaconda3\\lib\\site-packages (from requests->gTTs) (2.10)\n",
      "Requirement already satisfied: certifi>=2017.4.17 in c:\\users\\user\\anaconda3\\lib\\site-packages (from requests->gTTs) (2020.6.20)\n",
      "Requirement already satisfied: chardet<4,>=3.0.2 in c:\\users\\user\\anaconda3\\lib\\site-packages (from requests->gTTs) (3.0.4)\n",
      "Requirement already satisfied: urllib3!=1.25.0,!=1.25.1,<1.26,>=1.21.1 in c:\\users\\user\\anaconda3\\lib\\site-packages (from requests->gTTs) (1.25.9)\n"
     ]
    }
   ],
   "source": [
    "!pip install gTTs"
   ]
  },
  {
   "cell_type": "code",
   "execution_count": 18,
   "metadata": {
    "colab": {
     "base_uri": "https://localhost:8080/"
    },
    "id": "DcEgoXoHxTvI",
    "outputId": "d3cef717-c691-42d8-ec3a-1a0dfd1b99a8"
   },
   "outputs": [
    {
     "data": {
      "text/plain": [
       "1"
      ]
     },
     "execution_count": 18,
     "metadata": {},
     "output_type": "execute_result"
    }
   ],
   "source": [
    "from gtts import gTTS\n",
    "import os\n",
    "mytext = summary\n",
    "\n",
    "myobj = gTTS(text=mytext, lang='en', slow=False)\n",
    "\n",
    "myobj.save(\"summarized TTS.mp3\")\n",
    "os.system(\"mpg321 welcome.mp3\")\n",
    "\n"
   ]
  },
  {
   "cell_type": "code",
   "execution_count": null,
   "metadata": {},
   "outputs": [],
   "source": []
  }
 ],
 "metadata": {
  "colab": {
   "collapsed_sections": [],
   "name": "Text_summarization__.ipynb",
   "provenance": []
  },
  "kernelspec": {
   "display_name": "Python 3",
   "language": "python",
   "name": "python3"
  },
  "language_info": {
   "codemirror_mode": {
    "name": "ipython",
    "version": 3
   },
   "file_extension": ".py",
   "mimetype": "text/x-python",
   "name": "python",
   "nbconvert_exporter": "python",
   "pygments_lexer": "ipython3",
   "version": "3.8.3"
  }
 },
 "nbformat": 4,
 "nbformat_minor": 1
}
